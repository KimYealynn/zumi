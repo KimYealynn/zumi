{
 "cells": [
  {
   "cell_type": "code",
   "execution_count": null,
   "metadata": {},
   "outputs": [],
   "source": [
    "from picamera import PiCamera\n",
    "import cv2\n",
    "import IPython.display \n",
    "import PIL.Image\n",
    "\n",
    "# Take a photo with the camera, and save it\n",
    "camera = PiCamera()\n",
    "camera.capture(\"hi.jpg\")\n",
    "camera.close()\n",
    "\n",
    "# Load the image and display it here\n",
    "image = cv2.imread(\"hi.jpg\")\n",
    "IPython.display.display(PIL.Image.fromarray(image))"
   ]
  }
 ],
 "metadata": {
  "kernelspec": {
   "display_name": "Python 3",
   "language": "python",
   "name": "python3"
  },
  "language_info": {
   "codemirror_mode": {
    "name": "ipython",
    "version": 3
   },
   "file_extension": ".py",
   "mimetype": "text/x-python",
   "name": "python",
   "nbconvert_exporter": "python",
   "pygments_lexer": "ipython3",
   "version": "3.5.3"
  }
 },
 "nbformat": 4,
 "nbformat_minor": 2
}
