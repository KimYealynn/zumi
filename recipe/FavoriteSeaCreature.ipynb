{
 "cells": [
  {
   "cell_type": "code",
   "execution_count": null,
   "metadata": {},
   "outputs": [],
   "source": [
    "import time\n",
    "\n",
    "name = input(\"What is your name? \")\n",
    "print (\"\\nHey there \" + name + \"!\")\n",
    "time.sleep(2)\n",
    "creature = input(\"\\nWhat is your favorite sea creature? \")\n",
    "print (\"\\nI like Axolotls better than \" + creature + \"s, but that's just my opinion.\")\n",
    "time.sleep(2)\n",
    "print (\"\\nLet's load a photo of an Axolotl using openCV. We can switch it for a \" + creature + \" later....\")\n",
    "time.sleep(2)\n",
    "print (\"\\nUse your Trump code to help you figure it out. The image is called: axolotl.jpg\")\n",
    "\n",
    "# Put your code under here. You can delete the intro if it's annoying you ;)"
   ]
  }
 ],
 "metadata": {
  "kernelspec": {
   "display_name": "Python 3",
   "language": "python",
   "name": "python3"
  },
  "language_info": {
   "codemirror_mode": {
    "name": "ipython",
    "version": 3
   },
   "file_extension": ".py",
   "mimetype": "text/x-python",
   "name": "python",
   "nbconvert_exporter": "python",
   "pygments_lexer": "ipython3",
   "version": "3.5.3"
  }
 },
 "nbformat": 4,
 "nbformat_minor": 2
}
