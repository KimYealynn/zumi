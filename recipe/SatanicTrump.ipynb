{
 "cells": [
  {
   "cell_type": "code",
   "execution_count": null,
   "metadata": {},
   "outputs": [],
   "source": [
    "import cv2\n",
    "import IPython.display\n",
    "import PIL.Image\n",
    "\n",
    "# Load a photo of Donald Trump\n",
    "trump = cv2.imread('images/trump.jpg')\n",
    "\n",
    "# Convert the image space from BGR (Blue, Green, Red) to RGB\n",
    "trump = cv2.cvtColor(trump, cv2.COLOR_BGR2RGB)\n",
    "\n",
    "# Resize Trump\n",
    "trump = cv2.resize(trump,(800,450))\n",
    "\n",
    "# Show the image of Trump\n",
    "IPython.display.display(PIL.Image.fromarray(trump))\n",
    "\n",
    "# CHALLENGE: Use the openCV documentation to draw red eyes on Donald Trump\n",
    "# https://docs.opencv.org/3.1.0/dc/da5/tutorial_py_drawing_functions.html\n"
   ]
  }
 ],
 "metadata": {
  "kernelspec": {
   "display_name": "Python 3",
   "language": "python",
   "name": "python3"
  },
  "language_info": {
   "codemirror_mode": {
    "name": "ipython",
    "version": 3
   },
   "file_extension": ".py",
   "mimetype": "text/x-python",
   "name": "python",
   "nbconvert_exporter": "python",
   "pygments_lexer": "ipython3",
   "version": "3.5.3"
  }
 },
 "nbformat": 4,
 "nbformat_minor": 2
}
