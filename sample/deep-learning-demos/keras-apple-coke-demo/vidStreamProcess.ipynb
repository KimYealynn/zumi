{
 "cells": [
  {
   "cell_type": "code",
   "execution_count": 2,
   "metadata": {},
   "outputs": [
    {
     "name": "stdout",
     "output_type": "stream",
     "text": [
      "Importing picamera...\n",
      "I|mporting Engine...\n",
      "Importing numpy...\n",
      "Importing PIL...\n",
      "Importing keras...\n"
     ]
    },
    {
     "name": "stderr",
     "output_type": "stream",
     "text": [
      "Using TensorFlow backend.\n"
     ]
    },
    {
     "name": "stdout",
     "output_type": "stream",
     "text": [
      "Loading model...\n",
      "\n",
      "Finished imports\n"
     ]
    }
   ],
   "source": [
    "# prep code for maker demo\n",
    "print(\"Importing picamera...\")\n",
    "import picamera\n",
    "import picamera.array\n",
    "import picamera, cv2\n",
    "from IPython import display\n",
    "\n",
    "import sys\n",
    "sys.path.insert(0, '/home/pi/zumi/lib')\n",
    "print(\"I|mporting Engine...\")\n",
    "#import Engine as engine\n",
    "\n",
    "print(\"Importing numpy...\")\n",
    "import numpy as np\n",
    "\n",
    "print(\"Importing PIL...\")\n",
    "from PIL import Image\n",
    "\n",
    "print(\"Importing keras...\")\n",
    "from keras.models import load_model\n",
    "from keras.preprocessing.image import img_to_array\n",
    "\n",
    "print(\"Loading model...\")\n",
    "model = load_model('third_try.h5')\n",
    "\n",
    "print(\"\\nFinished imports\")"
   ]
  },
  {
   "cell_type": "code",
   "execution_count": 2,
   "metadata": {},
   "outputs": [],
   "source": [
    "\n",
    "def coke():\n",
    "    print(\"\\n\\n🍹 🍹 🍹 🍹 🍹 Coke! 🍹 🍹 🍹 🍹 🍹\\n\\n\")\n",
    "    #engine.go_backward()\n",
    "    #time.sleep(2)\n",
    "    #engine.stop()\n",
    "\n",
    "def apple():\n",
    "    print(\"\\n\\n🍏 🍏 🍏 🍏 🍏 Apple! 🍏 🍏 🍏 🍏 🍏\\n\\n\")\n",
    "    #engine.turn_right()\n",
    "    #time.sleep(3)\n",
    "    #engine.stop()\n",
    "    # play a sound, get a mp3 file\n",
    "\n",
    "def nothing():\n",
    "    print(\"\\n\\n\\tNo object detected!\\n\\n\")\n",
    "\n",
    "functionsKey = {\n",
    "        \"1\": nothing,\n",
    "        \"0\": apple,\n",
    "        \"2\": coke\n",
    "        }"
   ]
  },
  {
   "cell_type": "code",
   "execution_count": 1,
   "metadata": {},
   "outputs": [
    {
     "ename": "NameError",
     "evalue": "name 'cv2' is not defined",
     "output_type": "error",
     "traceback": [
      "\u001b[0;31m---------------------------------------------------------------------------\u001b[0m",
      "\u001b[0;31mNameError\u001b[0m                                 Traceback (most recent call last)",
      "\u001b[0;32m<ipython-input-1-c289df0d6e98>\u001b[0m in \u001b[0;36m<module>\u001b[0;34m()\u001b[0m\n\u001b[1;32m      1\u001b[0m \u001b[0mWINDOW_NAME\u001b[0m \u001b[0;34m=\u001b[0m \u001b[0;34m'stream'\u001b[0m\u001b[0;34m\u001b[0m\u001b[0m\n\u001b[0;32m----> 2\u001b[0;31m \u001b[0mcv2\u001b[0m\u001b[0;34m.\u001b[0m\u001b[0mnamedWindow\u001b[0m\u001b[0;34m(\u001b[0m\u001b[0mWINDOW_NAME\u001b[0m\u001b[0;34m)\u001b[0m\u001b[0;34m\u001b[0m\u001b[0m\n\u001b[0m\u001b[1;32m      3\u001b[0m \u001b[0mcv2\u001b[0m\u001b[0;34m.\u001b[0m\u001b[0mstartWindowThread\u001b[0m\u001b[0;34m(\u001b[0m\u001b[0;34m)\u001b[0m\u001b[0;34m\u001b[0m\u001b[0m\n\u001b[1;32m      4\u001b[0m \u001b[0;34m\u001b[0m\u001b[0m\n\u001b[1;32m      5\u001b[0m \u001b[0;32mtry\u001b[0m\u001b[0;34m:\u001b[0m\u001b[0;34m\u001b[0m\u001b[0m\n",
      "\u001b[0;31mNameError\u001b[0m: name 'cv2' is not defined"
     ]
    }
   ],
   "source": [
    "WINDOW_NAME = 'stream'\n",
    "cv2.namedWindow(WINDOW_NAME)\n",
    "cv2.startWindowThread()\n",
    "\n",
    "try:\n",
    "    while True:\n",
    "        with picamera.PiCamera() as camera:\n",
    "            \n",
    "            camera.resolution = (220, 180)\n",
    "        \n",
    "            camera.capture(\"tmp.jpg\")\n",
    "            img = cv2.imread(\"tmp.jpg\")\n",
    "            \n",
    "            # pred = model.predict(img[None, :, :, :])\n",
    "            # res = np.argmax(pred[0])\n",
    "        \n",
    "            # functionsKey[(str(int(res)))] ()\n",
    "        \n",
    "            cv2.imshow(WINDOW_NAME, img)\n",
    "            # display.clear_output(wait=True)\n",
    "            # display.display(display.Image(\"tmp.jpg\"))\n",
    "            \n",
    "            if cv2.waitKey(1) & 0xFF == ord('p'):\n",
    "                print(\"hello\")\n",
    "\n",
    "    \n",
    "except KeyboardInterrupt:\n",
    "    print(\"\\n\\nExiting...\\n\")"
   ]
  },
  {
   "cell_type": "code",
   "execution_count": null,
   "metadata": {},
   "outputs": [],
   "source": []
  },
  {
   "cell_type": "code",
   "execution_count": null,
   "metadata": {},
   "outputs": [],
   "source": []
  },
  {
   "cell_type": "code",
   "execution_count": null,
   "metadata": {},
   "outputs": [],
   "source": []
  },
  {
   "cell_type": "code",
   "execution_count": null,
   "metadata": {},
   "outputs": [],
   "source": []
  }
 ],
 "metadata": {
  "kernelspec": {
   "display_name": "Python 3",
   "language": "python",
   "name": "python3"
  },
  "language_info": {
   "codemirror_mode": {
    "name": "ipython",
    "version": 3
   },
   "file_extension": ".py",
   "mimetype": "text/x-python",
   "name": "python",
   "nbconvert_exporter": "python",
   "pygments_lexer": "ipython3",
   "version": "3.5.3"
  }
 },
 "nbformat": 4,
 "nbformat_minor": 2
}
