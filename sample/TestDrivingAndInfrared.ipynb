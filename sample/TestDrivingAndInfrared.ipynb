{
 "cells": [
  {
   "cell_type": "code",
   "execution_count": null,
   "metadata": {},
   "outputs": [],
   "source": [
    "import time\n",
    "import sys\n",
    "sys.path.insert(0,'/home/pi/zumi/lib')\n",
    "import Engine as engine\n",
    "import Infrared as infrared\n",
    "import IPython.display\n",
    "\n",
    "time.sleep(.5)\n",
    "engine.set_speed(15)\n",
    "engine.go_forward()\n",
    "engine.stop()\n",
    "\n",
    "while 1:\n",
    "   # print (\"front: \" + str(infrared.get_front_distance()) + \" left: \" + str(infrared.get_left_distance()) + \" right: \" + str(infrared.get_right_distance()) + \"\\nbottom left: \" + str(infrared.get_bottom_left()) + \" bottom right: \" + str(infrared.get_bottom_right()))\n",
    "    print (infrared.get_bottom_left_color())\n",
    "    IPython.display.clear_output(wait=True) \n",
    "    \n",
    "    \n",
    "\n",
    "\n"
   ]
  }
 ],
 "metadata": {
  "kernelspec": {
   "display_name": "Python 3",
   "language": "python",
   "name": "python3"
  },
  "language_info": {
   "codemirror_mode": {
    "name": "ipython",
    "version": 3
   },
   "file_extension": ".py",
   "mimetype": "text/x-python",
   "name": "python",
   "nbconvert_exporter": "python",
   "pygments_lexer": "ipython3",
   "version": "3.5.3"
  }
 },
 "nbformat": 4,
 "nbformat_minor": 2
}
